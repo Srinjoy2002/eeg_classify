{
  "metadata": {
    "kernelspec": {
      "language": "python",
      "display_name": "Python 3",
      "name": "python3"
    },
    "language_info": {
      "name": "python",
      "version": "3.10.14",
      "mimetype": "text/x-python",
      "codemirror_mode": {
        "name": "ipython",
        "version": 3
      },
      "pygments_lexer": "ipython3",
      "nbconvert_exporter": "python",
      "file_extension": ".py"
    },
    "kaggle": {
      "accelerator": "nvidiaTeslaT4",
      "dataSources": [
        {
          "sourceId": 472319,
          "sourceType": "datasetVersion",
          "datasetId": 218098
        }
      ],
      "dockerImageVersionId": 30787,
      "isInternetEnabled": false,
      "language": "python",
      "sourceType": "notebook",
      "isGpuEnabled": true
    },
    "colab": {
      "name": "eeg_emotion_analysis",
      "provenance": [],
      "include_colab_link": true
    }
  },
  "nbformat_minor": 0,
  "nbformat": 4,
  "cells": [
    {
      "cell_type": "markdown",
      "metadata": {
        "id": "view-in-github",
        "colab_type": "text"
      },
      "source": [
        "<a href=\"https://colab.research.google.com/github/Srinjoy2002/eeg_classify/blob/main/eeg_emotion_analysis1.ipynb\" target=\"_parent\"><img src=\"https://colab.research.google.com/assets/colab-badge.svg\" alt=\"Open In Colab\"/></a>"
      ]
    },
    {
      "source": [
        "\n",
        "# IMPORTANT: RUN THIS CELL IN ORDER TO IMPORT YOUR KAGGLE DATA SOURCES\n",
        "# TO THE CORRECT LOCATION (/kaggle/input) IN YOUR NOTEBOOK,\n",
        "# THEN FEEL FREE TO DELETE THIS CELL.\n",
        "# NOTE: THIS NOTEBOOK ENVIRONMENT DIFFERS FROM KAGGLE'S PYTHON\n",
        "# ENVIRONMENT SO THERE MAY BE MISSING LIBRARIES USED BY YOUR\n",
        "# NOTEBOOK.\n",
        "\n",
        "import os\n",
        "import sys\n",
        "from tempfile import NamedTemporaryFile\n",
        "from urllib.request import urlopen\n",
        "from urllib.parse import unquote, urlparse\n",
        "from urllib.error import HTTPError\n",
        "from zipfile import ZipFile\n",
        "import tarfile\n",
        "import shutil\n",
        "\n",
        "CHUNK_SIZE = 40960\n",
        "DATA_SOURCE_MAPPING = 'seed-iv:https%3A%2F%2Fstorage.googleapis.com%2Fkaggle-data-sets%2F218098%2F472319%2Fbundle%2Farchive.zip%3FX-Goog-Algorithm%3DGOOG4-RSA-SHA256%26X-Goog-Credential%3Dgcp-kaggle-com%2540kaggle-161607.iam.gserviceaccount.com%252F20241010%252Fauto%252Fstorage%252Fgoog4_request%26X-Goog-Date%3D20241010T190506Z%26X-Goog-Expires%3D259200%26X-Goog-SignedHeaders%3Dhost%26X-Goog-Signature%3D7cf03874ded18db1cfc1e959297ebf6b5d5aae3ddce1a730a6a5d91aa978b5124be71e9477fb5177dce037a37c6c2c3b3d9e04f659d3fe69bda0e5cbb841b8ad0a2707caed5680186cacc9d2afdf2f25ff5b166306c8fa60bd8243f892ec4f9c41800de91e3f77911e762f8e886317149dac6afc3a8d8d1424a19e9a872ca037defee6b38afb4af8c89294dd4cf65df2589d01dc34e03d013618f61d74254b77e2780c59ab1c85d1ed40874096dc437939127a00872e6d21dc6fae36a55c0679b17a83251ccb16cce16c4a73291ec1423273b63db1184500032adfda93173afc291abf0ec76ab90a35eadb7a840bee68465bdb913b1cef3627510d3ae544fcfb'\n",
        "\n",
        "KAGGLE_INPUT_PATH='/kaggle/input'\n",
        "KAGGLE_WORKING_PATH='/kaggle/working'\n",
        "KAGGLE_SYMLINK='kaggle'\n",
        "\n",
        "!umount /kaggle/input/ 2> /dev/null\n",
        "shutil.rmtree('/kaggle/input', ignore_errors=True)\n",
        "os.makedirs(KAGGLE_INPUT_PATH, 0o777, exist_ok=True)\n",
        "os.makedirs(KAGGLE_WORKING_PATH, 0o777, exist_ok=True)\n",
        "\n",
        "try:\n",
        "  os.symlink(KAGGLE_INPUT_PATH, os.path.join(\"..\", 'input'), target_is_directory=True)\n",
        "except FileExistsError:\n",
        "  pass\n",
        "try:\n",
        "  os.symlink(KAGGLE_WORKING_PATH, os.path.join(\"..\", 'working'), target_is_directory=True)\n",
        "except FileExistsError:\n",
        "  pass\n",
        "\n",
        "for data_source_mapping in DATA_SOURCE_MAPPING.split(','):\n",
        "    directory, download_url_encoded = data_source_mapping.split(':')\n",
        "    download_url = unquote(download_url_encoded)\n",
        "    filename = urlparse(download_url).path\n",
        "    destination_path = os.path.join(KAGGLE_INPUT_PATH, directory)\n",
        "    try:\n",
        "        with urlopen(download_url) as fileres, NamedTemporaryFile() as tfile:\n",
        "            total_length = fileres.headers['content-length']\n",
        "            print(f'Downloading {directory}, {total_length} bytes compressed')\n",
        "            dl = 0\n",
        "            data = fileres.read(CHUNK_SIZE)\n",
        "            while len(data) > 0:\n",
        "                dl += len(data)\n",
        "                tfile.write(data)\n",
        "                done = int(50 * dl / int(total_length))\n",
        "                sys.stdout.write(f\"\\r[{'=' * done}{' ' * (50-done)}] {dl} bytes downloaded\")\n",
        "                sys.stdout.flush()\n",
        "                data = fileres.read(CHUNK_SIZE)\n",
        "            if filename.endswith('.zip'):\n",
        "              with ZipFile(tfile) as zfile:\n",
        "                zfile.extractall(destination_path)\n",
        "            else:\n",
        "              with tarfile.open(tfile.name) as tarfile:\n",
        "                tarfile.extractall(destination_path)\n",
        "            print(f'\\nDownloaded and uncompressed: {directory}')\n",
        "    except HTTPError as e:\n",
        "        print(f'Failed to load (likely expired) {download_url} to path {destination_path}')\n",
        "        continue\n",
        "    except OSError as e:\n",
        "        print(f'Failed to load {download_url} to path {destination_path}')\n",
        "        continue\n",
        "\n",
        "print('Data source import complete.')\n"
      ],
      "metadata": {
        "id": "TlXcHMlR0iKH"
      },
      "cell_type": "code",
      "outputs": [],
      "execution_count": null
    },
    {
      "cell_type": "code",
      "source": [
        "# This Python 3 environment comes with many helpful analytics libraries installed\n",
        "# It is defined by the kaggle/python Docker image: https://github.com/kaggle/docker-python\n",
        "# For example, here's several helpful packages to load\n",
        "\n",
        "import numpy as np # linear algebra\n",
        "import pandas as pd # data processing, CSV file I/O (e.g. pd.read_csv)\n",
        "\n",
        "# Input data files are available in the read-only \"../input/\" directory\n",
        "# For example, running this (by clicking run or pressing Shift+Enter) will list all files under the input directory\n",
        "\n",
        "import os\n",
        "for dirname, _, filenames in os.walk('/kaggle/input'):\n",
        "    for filename in filenames:\n",
        "        print(os.path.join(dirname, filename))\n",
        "\n",
        "# You can write up to 20GB to the current directory (/kaggle/working/) that gets preserved as output when you create a version using \"Save & Run All\"\n",
        "# You can also write temporary files to /kaggle/temp/, but they won't be saved outside of the current session"
      ],
      "metadata": {
        "_uuid": "8f2839f25d086af736a60e9eeb907d3b93b6e0e5",
        "_cell_guid": "b1076dfc-b9ad-4769-8c92-a6c4dae69d19",
        "execution": {
          "iopub.status.busy": "2024-10-10T17:55:26.149877Z",
          "iopub.execute_input": "2024-10-10T17:55:26.150585Z",
          "iopub.status.idle": "2024-10-10T17:55:27.654647Z",
          "shell.execute_reply.started": "2024-10-10T17:55:26.150545Z",
          "shell.execute_reply": "2024-10-10T17:55:27.653694Z"
        },
        "trusted": true,
        "id": "I-DRTX5z0iKR"
      },
      "outputs": [],
      "execution_count": null
    },
    {
      "cell_type": "code",
      "source": [
        "import numpy as np\n",
        "import tensorflow as tf\n",
        "\n",
        "import scipy\n",
        "import os\n",
        "from os import listdir\n",
        "from scipy.io import loadmat\n",
        "import pickle\n",
        "from sklearn.model_selection import StratifiedKFold\n",
        "from sklearn.model_selection import train_test_split\n",
        "from tensorflow.keras import regularizers\n",
        "from tensorflow.keras import activations"
      ],
      "metadata": {
        "execution": {
          "iopub.status.busy": "2024-10-10T17:55:27.656787Z",
          "iopub.execute_input": "2024-10-10T17:55:27.657585Z",
          "iopub.status.idle": "2024-10-10T17:55:42.50848Z",
          "shell.execute_reply.started": "2024-10-10T17:55:27.657536Z",
          "shell.execute_reply": "2024-10-10T17:55:42.50775Z"
        },
        "trusted": true,
        "id": "jlD_2x5G0iKT"
      },
      "outputs": [],
      "execution_count": null
    },
    {
      "cell_type": "code",
      "source": [
        "import os\n",
        "import numpy as np\n",
        "from scipy.io import loadmat\n",
        "\n",
        "# Correct paths for Kaggle dataset\n",
        "directories = [\"/kaggle/input/seed-iv/eeg_feature_smooth/{}\".format(i+1) for i in range(3)]\n",
        "print(directories)\n",
        "\n",
        "# EEG channel coordinates\n",
        "channel_coords = [\n",
        "    ['0', '0', 'AF3', 'FP1', 'FPZ', 'FP2', 'AF4', '0', '0'],\n",
        "    ['F7', 'F5', 'F3', 'F1', 'FZ', 'F2', 'F4', 'F6', 'F8'],\n",
        "    ['FT7', 'FC5', 'FC3', 'FC1', 'FCZ', 'FC2', 'FC4', 'FC6', 'FT8'],\n",
        "    ['T7', 'C5', 'C3', 'C1', 'CZ', 'C2', 'C4', 'C6', 'T8'],\n",
        "    ['TP7', 'CP5', 'CP3', 'CP1', 'CPZ', 'CP2', 'CP4', 'CP6', 'TP8'],\n",
        "    ['P7', 'P5', 'P3', 'P1', 'PZ', 'P2', 'P4', 'P6', 'P8'],\n",
        "    ['0', 'PO7', 'PO5', 'PO3', 'POZ', 'PO4', 'PO6', 'PO8', '0'],\n",
        "    ['0', '0', 'CB1', 'O1', 'OZ', 'O2', 'CB2', '0', '0']\n",
        "]\n",
        "\n",
        "channel_list = [\n",
        "    'FP1', 'FPZ', 'FP2', 'AF3', 'AF4', 'F7', 'F5', 'F3', 'F1', 'FZ',\n",
        "    'F2', 'F4', 'F6', 'F8', 'FT7', 'FC5', 'FC3', 'FC1', 'FCZ', 'FC2',\n",
        "    'FC4', 'FC6', 'FT8', 'T7', 'C5', 'C3', 'C1', 'CZ', 'C2', 'C4',\n",
        "    'C6', 'T8', 'TP7', 'CP5', 'CP3', 'CP1', 'CPZ', 'CP2', 'CP4',\n",
        "    'CP6', 'TP8', 'P7', 'P5', 'P3', 'P1', 'PZ', 'P2', 'P4', 'P6',\n",
        "    'P8', 'PO7', 'PO5', 'PO3', 'POZ', 'PO4', 'PO6', 'PO8', 'CB1',\n",
        "    'O1', 'OZ', 'O2', 'CB2'\n",
        "]\n",
        "\n",
        "# Verifying the length of channel coordinates\n",
        "print(len(channel_coords), len(channel_coords[0]))\n",
        "\n",
        "# Creating a dictionary to map channel names to coordinates\n",
        "coord_dict = {}\n",
        "for n in range(len(channel_list)):\n",
        "    for i, l in enumerate(channel_coords):\n",
        "        for j, x in enumerate(l):\n",
        "            if channel_list[n] == x:\n",
        "                coord_dict[n] = (i, j)\n",
        "print(coord_dict)\n",
        "\n",
        "# Initialize the array with the correct shape\n",
        "n = 24\n",
        "perSample = ['de_movingAve', 'de_LDS', 'psd_movingAve', 'psd_LDS']\n",
        "array = np.zeros(shape=(len(directories), len(os.listdir(directories[0])), n, 4, 8, 9, 5, 64))\n",
        "\n",
        "# Iterate over directories to load and process data\n",
        "for h, dire in enumerate(directories):\n",
        "    print(dire)\n",
        "    data = [loadmat(os.path.join(dire, file)) for file in os.listdir(dire)]\n",
        "    for i, bigsample in enumerate(data):\n",
        "        for j in range(n):\n",
        "            for k, key in enumerate(perSample):\n",
        "                # Transpose and pad the sample\n",
        "                sample = np.transpose(np.array(bigsample[key + str(j+1)]), (0, 2, 1))\n",
        "                sample = np.pad(sample, [(0, 0), (0, 0), (0, 64 - sample.shape[2])])\n",
        "                # Fill the array based on channel locations\n",
        "                for l, channel in enumerate(sample):\n",
        "                    array[h][i][j][k][coord_dict[l][0]][coord_dict[l][1]] = channel\n",
        "\n",
        "# Output the shape of the final array\n",
        "print(array.shape)\n"
      ],
      "metadata": {
        "execution": {
          "iopub.status.busy": "2024-10-10T17:55:42.510015Z",
          "iopub.execute_input": "2024-10-10T17:55:42.510574Z",
          "iopub.status.idle": "2024-10-10T17:55:49.280455Z",
          "shell.execute_reply.started": "2024-10-10T17:55:42.510538Z",
          "shell.execute_reply": "2024-10-10T17:55:49.279541Z"
        },
        "trusted": true,
        "id": "kBOeXACQ0iKU"
      },
      "outputs": [],
      "execution_count": null
    },
    {
      "cell_type": "code",
      "source": [
        "_X = array.reshape(np.prod(array.shape[0:3]), *array.shape[3:])\n",
        "print(_X.shape)\n",
        "X_loso = array[:,:,:,1,:,:,]\n",
        "X_loso = np.transpose(X_loso, (0,1,2,6,3,4,5))\n",
        "print(X_loso.shape)"
      ],
      "metadata": {
        "execution": {
          "iopub.status.busy": "2024-10-10T17:55:49.282961Z",
          "iopub.execute_input": "2024-10-10T17:55:49.283712Z",
          "iopub.status.idle": "2024-10-10T17:55:49.289683Z",
          "shell.execute_reply.started": "2024-10-10T17:55:49.283664Z",
          "shell.execute_reply": "2024-10-10T17:55:49.288649Z"
        },
        "trusted": true,
        "id": "Bour28mF0iKV"
      },
      "outputs": [],
      "execution_count": null
    },
    {
      "cell_type": "code",
      "source": [
        "session1_label = [1,2,3,0,2,0,0,1,0,1,2,1,1,1,2,3,2,2,3,3,0,3,0,3]\n",
        "session2_label = [2,1,3,0,0,2,0,2,3,3,2,3,2,0,1,1,2,1,0,3,0,1,3,1]\n",
        "session3_label = [1,2,2,1,3,3,3,1,1,2,1,0,2,3,3,0,2,3,0,0,2,0,1,0]\n",
        "labels = {0: 'neutral', 1: 'sad', 2: 'fear', 3: 'happy'}\n",
        "\n",
        "y = np.array(session1_label * 15 + session2_label * 15 + session3_label * 15)\n",
        "\n",
        "print(y.shape)\n",
        "y_loso = np.reshape(y, (3,15,24))\n",
        "print(y_loso.shape)"
      ],
      "metadata": {
        "execution": {
          "iopub.status.busy": "2024-10-10T17:55:49.290753Z",
          "iopub.execute_input": "2024-10-10T17:55:49.291005Z",
          "iopub.status.idle": "2024-10-10T17:55:49.302864Z",
          "shell.execute_reply.started": "2024-10-10T17:55:49.290976Z",
          "shell.execute_reply": "2024-10-10T17:55:49.301924Z"
        },
        "trusted": true,
        "id": "XF1wXqQj0iKW"
      },
      "outputs": [],
      "execution_count": null
    },
    {
      "cell_type": "code",
      "source": [
        "def crossval_loso(generate_model, n_epochs, X, y):\n",
        "    cvscores = []\n",
        "    for i in range(15):\n",
        "        a = [x for x in range(15) if x != i]\n",
        "        print(a)\n",
        "        X_train = X[:,a,:,:,:,:,:]\n",
        "        X_test =  X[:,[i],:,:,:,:,:]\n",
        "        X_train = X_train.reshape(np.prod(X_train.shape[0:3]), *X_train.shape[3:])\n",
        "        X_test = X_test.reshape(np.prod(X_test.shape[0:3]), *X_test.shape[3:])\n",
        "        y_train = y[:,a,:]\n",
        "        y_test = y[:, [i], :]\n",
        "        y_train = y_train.flatten()\n",
        "        y_test = y_test.flatten()\n",
        "        print(X_train.shape, y_train.shape, X_test.shape, y_test.shape)\n",
        "        model = generate_model()\n",
        "        model.compile(optimizer='adam',\n",
        "              loss=tf.keras.losses.SparseCategoricalCrossentropy(from_logits=True),\n",
        "              metrics=['accuracy'])\n",
        "        print('------------------------------------------------------------------------')\n",
        "        print(f'Training for fold {i} ...')\n",
        "        model.fit(X_train, y_train, epochs=n_epochs, verbose=1) # validation_split=0.2)\n",
        "        scores = model.evaluate(X_test, y_test, verbose=2)\n",
        "        print(\"Score for fold %d - %s: %.6f%%\" % (i, model.metrics_names[1], scores[1]*100))\n",
        "        cvscores.append(scores[1])\n",
        "    print('------------------------------------------------------------------------')\n",
        "    print(\"Avg accuracies: %.6f%% (+/- %.6f%%)\" % (np.mean(cvscores), np.std(cvscores)))"
      ],
      "metadata": {
        "execution": {
          "iopub.status.busy": "2024-10-10T17:55:49.303898Z",
          "iopub.execute_input": "2024-10-10T17:55:49.304251Z",
          "iopub.status.idle": "2024-10-10T17:55:49.31616Z",
          "shell.execute_reply.started": "2024-10-10T17:55:49.30421Z",
          "shell.execute_reply": "2024-10-10T17:55:49.315272Z"
        },
        "trusted": true,
        "id": "-hPIwfX50iKX"
      },
      "outputs": [],
      "execution_count": null
    },
    {
      "cell_type": "code",
      "source": [
        "def crossval(generate_model, n_epochs, X_train, y_train, X_test, y_test, filename = None):\n",
        "    kfold = StratifiedKFold(n_splits=4, shuffle=True, random_state=0)\n",
        "    bestmodel = None\n",
        "    bestAcc = 0\n",
        "    cvscores = []\n",
        "    fold = 1\n",
        "    for train, test in kfold.split(X_train, y_train):\n",
        "        model = generate_model()\n",
        "        model.compile(optimizer='adam',\n",
        "              loss=tf.keras.losses.SparseCategoricalCrossentropy(from_logits=True),\n",
        "              metrics=['accuracy'])\n",
        "        print('------------------------------------------------------------------------')\n",
        "        print(f'Training for fold {fold} ...')\n",
        "        model.fit(X_train[train], y_train[train],epochs=n_epochs, verbose=1) # validation_split=0.2)\n",
        "        scores = model.evaluate(X_train[test], y_train[test], verbose=1)\n",
        "        print(\"Score for fold %d - %s: %.2f%%\" % (fold, model.metrics_names[1], scores[1]*100))\n",
        "        if(scores[1] > bestAcc):\n",
        "            bestAcc = scores[1]\n",
        "            bestmodel = model\n",
        "        cvscores.append(scores[1] * 100)\n",
        "        fold += 1\n",
        "    print('------------------------------------------------------------------------')\n",
        "    print(\"Avg accuracies: %.2f%% (+/- %.2f%%)\" % (np.mean(cvscores), np.std(cvscores)))\n",
        "    test_loss, test_acc = bestmodel.evaluate(X_test,  y_test, verbose=2)\n",
        "    print('\\nTest accuracy:', test_acc)\n",
        "    if filename:\n",
        "        pickle.dump( bestmodel, open( filename, \"wb\" ) )"
      ],
      "metadata": {
        "execution": {
          "iopub.status.busy": "2024-10-10T17:55:49.318035Z",
          "iopub.execute_input": "2024-10-10T17:55:49.318311Z",
          "iopub.status.idle": "2024-10-10T17:55:49.328002Z",
          "shell.execute_reply.started": "2024-10-10T17:55:49.318281Z",
          "shell.execute_reply": "2024-10-10T17:55:49.327211Z"
        },
        "trusted": true,
        "id": "iuBJaApP0iKY"
      },
      "outputs": [],
      "execution_count": null
    },
    {
      "cell_type": "code",
      "source": [
        "def fully_conv():\n",
        "    return tf.keras.Sequential([\n",
        "    tf.keras.layers.SeparableConv1D(\n",
        "128, 3, data_format='channels_last', padding=\"same\", activation='relu',input_shape=X.shape[1:]),\n",
        "    tf.keras.layers.MaxPooling1D(\n",
        "    pool_size=2, strides=2, data_format=\"channels_last\"),\n",
        "    tf.keras.layers.SeparableConv1D(\n",
        "128, 3, data_format='channels_last', padding=\"same\", activation='relu'),\n",
        "    tf.keras.layers.MaxPooling1D(\n",
        "    pool_size=2, strides=2, data_format=\"channels_last\"),\n",
        "    tf.keras.layers.SeparableConv1D(\n",
        "128, 3, data_format='channels_last', padding=\"same\", activation='relu'),\n",
        "    tf.keras.layers.MaxPooling1D(\n",
        "    pool_size=2, strides=2, data_format=\"channels_last\"),\n",
        "    tf.keras.layers.SeparableConv1D(\n",
        "128, 3, data_format='channels_last', padding=\"same\", activation='relu'),\n",
        "    tf.keras.layers.MaxPooling1D(\n",
        "    pool_size=2, strides=2, data_format=\"channels_last\"),\n",
        "    tf.keras.layers.Flatten(),\n",
        "    tf.keras.layers.Dense(128, activation='relu'),\n",
        "    tf.keras.layers.Dense(10)\n",
        "])"
      ],
      "metadata": {
        "execution": {
          "iopub.status.busy": "2024-10-10T17:55:49.328978Z",
          "iopub.execute_input": "2024-10-10T17:55:49.329223Z",
          "iopub.status.idle": "2024-10-10T17:55:49.341821Z",
          "shell.execute_reply.started": "2024-10-10T17:55:49.329195Z",
          "shell.execute_reply": "2024-10-10T17:55:49.341036Z"
        },
        "trusted": true,
        "id": "yQUnCjIk0iKZ"
      },
      "outputs": [],
      "execution_count": null
    },
    {
      "cell_type": "code",
      "source": [
        "def single_conv():\n",
        "    return tf.keras.Sequential([\n",
        "    tf.keras.layers.Conv1D(\n",
        "32, 3, activation='relu',input_shape=X.shape[1:]),\n",
        "    tf.keras.layers.MaxPooling1D(\n",
        "    pool_size=2, strides=2, data_format=\"channels_last\"),\n",
        "    tf.keras.layers.Flatten(),\n",
        "    tf.keras.layers.Dense(128, activation='relu'),\n",
        "    tf.keras.layers.Dense(32),\n",
        "    tf.keras.layers.Dense(4)\n",
        "])\n",
        "def LSTM():\n",
        "    return tf.keras.Sequential([\n",
        "    tf.keras.layers.LSTM(100),\n",
        "    tf.keras.layers.Dense(128, activation='relu'),\n",
        "    tf.keras.layers.Dense(10)\n",
        "    ])\n",
        "def dense():\n",
        "    return tf.keras.Sequential([\n",
        "    tf.keras.layers.Flatten(input_shape=X.shape[1:]),\n",
        "    tf.keras.layers.Dense(128, activation='relu'),\n",
        "    tf.keras.layers.Dense(32),\n",
        "    tf.keras.layers.Dense(4)\n",
        "])"
      ],
      "metadata": {
        "execution": {
          "iopub.status.busy": "2024-10-10T17:55:49.342973Z",
          "iopub.execute_input": "2024-10-10T17:55:49.343602Z",
          "iopub.status.idle": "2024-10-10T17:55:49.354292Z",
          "shell.execute_reply.started": "2024-10-10T17:55:49.34356Z",
          "shell.execute_reply": "2024-10-10T17:55:49.353535Z"
        },
        "trusted": true,
        "id": "qdIHKkeM0iKa"
      },
      "outputs": [],
      "execution_count": null
    },
    {
      "cell_type": "code",
      "source": [
        "def twodConv():\n",
        "    return tf.keras.Sequential([\n",
        "    tf.keras.layers.Conv2D(\n",
        "32, 3, padding=\"same\", activation=\"relu\",input_shape=X.shape[1:]),\n",
        "    tf.keras.layers.MaxPooling2D(\n",
        "    pool_size=2, strides=2, data_format=\"channels_last\"),\n",
        "    tf.keras.layers.BatchNormalization(center=True, scale=True),\n",
        "    tf.keras.layers.Conv2D(\n",
        "64, 3, padding=\"same\", activation=\"relu\",input_shape=X.shape[1:]),\n",
        "    tf.keras.layers.MaxPooling2D(\n",
        "    pool_size=2, strides=2, data_format=\"channels_last\"),\n",
        "    tf.keras.layers.BatchNormalization(center=True, scale=True),\n",
        "    tf.keras.layers.Flatten(),\n",
        "    tf.keras.layers.Dense(128, activation='relu'),\n",
        "    tf.keras.layers.Dense(10)\n",
        "])\n",
        "def threedConv():\n",
        "    model = tf.keras.Sequential()\n",
        "\n",
        "    model.add(tf.keras.layers.Conv3D(32, kernel_size=5, padding=\"same\", input_shape=X.shape[1:]))\n",
        "    model.add(tf.keras.layers.BatchNormalization(trainable=False))\n",
        "    model.add(tf.keras.layers.Activation(activations.relu))\n",
        "    model.add(tf.keras.layers.Dropout(0.5))\n",
        "    model.add(tf.keras.layers.MaxPooling3D(pool_size=(2, 2, 2)))\n",
        "\n",
        "    model.add(tf.keras.layers.Flatten())\n",
        "    model.add(tf.keras.layers.Dense(256))\n",
        "    model.add(tf.keras.layers.BatchNormalization(trainable=False))\n",
        "    model.add(tf.keras.layers.Activation(activations.relu))\n",
        "    model.add(tf.keras.layers.Dropout(0.5))\n",
        "    model.add(tf.keras.layers.Dense(10))\n",
        "    return model\n",
        "def convlstm2d():\n",
        "    model = tf.keras.Sequential()\n",
        "    model.add(tf.keras.layers.ConvLSTM2D(16, kernel_size=5, padding=\"same\", return_sequences = False, input_shape=X.shape[1:]))\n",
        "    model.add(tf.keras.layers.Dropout(0.2))\n",
        "    model.add(tf.keras.layers.Flatten())\n",
        "    model.add(tf.keras.layers.Dense(256, activation=\"relu\"))\n",
        "    model.add(tf.keras.layers.Dense(10))\n",
        "    return model"
      ],
      "metadata": {
        "execution": {
          "iopub.status.busy": "2024-10-10T17:55:49.357846Z",
          "iopub.execute_input": "2024-10-10T17:55:49.358189Z",
          "iopub.status.idle": "2024-10-10T17:55:49.37166Z",
          "shell.execute_reply.started": "2024-10-10T17:55:49.358158Z",
          "shell.execute_reply": "2024-10-10T17:55:49.370785Z"
        },
        "trusted": true,
        "id": "Hwnm74bT0iKb"
      },
      "outputs": [],
      "execution_count": null
    },
    {
      "cell_type": "code",
      "source": [
        "X = _X.transpose(0, 5, 1,2,3,4)\n",
        "print(X.shape)\n",
        "X = X.reshape(X.shape[0], X.shape[1], np.prod(X.shape[2:]))\n",
        "print(X.shape)\n",
        "\n",
        "X_train, X_test, y_train, y_test = train_test_split(\n",
        "    X, y, test_size=0.2, random_state=42)"
      ],
      "metadata": {
        "execution": {
          "iopub.status.busy": "2024-10-10T17:55:49.372666Z",
          "iopub.execute_input": "2024-10-10T17:55:49.372929Z",
          "iopub.status.idle": "2024-10-10T17:55:49.62745Z",
          "shell.execute_reply.started": "2024-10-10T17:55:49.372899Z",
          "shell.execute_reply": "2024-10-10T17:55:49.626672Z"
        },
        "trusted": true,
        "id": "iGc1oFHO0iKb"
      },
      "outputs": [],
      "execution_count": null
    },
    {
      "cell_type": "code",
      "source": [
        "# crossval(dense, 40, X_train, y_train, X_test, y_test)"
      ],
      "metadata": {
        "execution": {
          "iopub.status.busy": "2024-10-10T17:55:49.628545Z",
          "iopub.execute_input": "2024-10-10T17:55:49.628856Z",
          "iopub.status.idle": "2024-10-10T17:55:49.6329Z",
          "shell.execute_reply.started": "2024-10-10T17:55:49.628823Z",
          "shell.execute_reply": "2024-10-10T17:55:49.632038Z"
        },
        "trusted": true,
        "id": "IWvzZD0R0iKc"
      },
      "outputs": [],
      "execution_count": null
    },
    {
      "cell_type": "code",
      "source": [
        "# crossval(single_conv, 40, X_train, y_train, X_test, y_test)"
      ],
      "metadata": {
        "execution": {
          "iopub.status.busy": "2024-10-10T17:55:49.633814Z",
          "iopub.execute_input": "2024-10-10T17:55:49.634097Z",
          "iopub.status.idle": "2024-10-10T17:55:49.646094Z",
          "shell.execute_reply.started": "2024-10-10T17:55:49.634067Z",
          "shell.execute_reply": "2024-10-10T17:55:49.645289Z"
        },
        "trusted": true,
        "id": "fot2A4wx0iKc"
      },
      "outputs": [],
      "execution_count": null
    },
    {
      "cell_type": "code",
      "source": [
        "X = _X.transpose(0, 5, 2,3, 4, 1)[:,:,:,:,:,:]\n",
        "\n",
        "X = X.reshape(X.shape[0], X.shape[1], X.shape[2], X.shape[3], np.prod(X.shape[4:]))\n",
        "print(X.shape)\n",
        "X_train, X_test, y_train, y_test = train_test_split(\n",
        "    X, y, test_size=0.2, random_state=42)"
      ],
      "metadata": {
        "execution": {
          "iopub.status.busy": "2024-10-10T17:55:49.647087Z",
          "iopub.execute_input": "2024-10-10T17:55:49.64736Z",
          "iopub.status.idle": "2024-10-10T17:55:50.373266Z",
          "shell.execute_reply.started": "2024-10-10T17:55:49.647329Z",
          "shell.execute_reply": "2024-10-10T17:55:50.37225Z"
        },
        "trusted": true,
        "id": "YLkRvDDx0iKc"
      },
      "outputs": [],
      "execution_count": null
    },
    {
      "cell_type": "code",
      "source": [
        "# crossval(threedConv, 100, X_train, y_train, X_test, y_test)"
      ],
      "metadata": {
        "execution": {
          "iopub.status.busy": "2024-10-10T17:55:50.374752Z",
          "iopub.execute_input": "2024-10-10T17:55:50.375195Z",
          "iopub.status.idle": "2024-10-10T17:55:50.379404Z",
          "shell.execute_reply.started": "2024-10-10T17:55:50.375129Z",
          "shell.execute_reply": "2024-10-10T17:55:50.378536Z"
        },
        "trusted": true,
        "id": "c_TicmwC0iKc"
      },
      "outputs": [],
      "execution_count": null
    },
    {
      "cell_type": "code",
      "source": [
        "# crossval(threedConv, 100, X_train, y_train, X_test, y_test)"
      ],
      "metadata": {
        "execution": {
          "iopub.status.busy": "2024-10-10T17:55:50.381196Z",
          "iopub.execute_input": "2024-10-10T17:55:50.381858Z",
          "iopub.status.idle": "2024-10-10T17:55:50.391587Z",
          "shell.execute_reply.started": "2024-10-10T17:55:50.381824Z",
          "shell.execute_reply": "2024-10-10T17:55:50.39069Z"
        },
        "trusted": true,
        "id": "Q3ffriBQ0iKd"
      },
      "outputs": [],
      "execution_count": null
    },
    {
      "cell_type": "code",
      "source": [
        "X = _X.transpose(0, 5, 2,3, 4, 1)[:,:,:,:,:,1]\n",
        "\n",
        "X = X.reshape(X.shape[0], X.shape[1], X.shape[2], X.shape[3], np.prod(X.shape[4:]))\n",
        "print(X.shape)\n",
        "X_train, X_test, y_train, y_test = train_test_split(\n",
        "    X, y, test_size=0.2, random_state=42)"
      ],
      "metadata": {
        "execution": {
          "iopub.status.busy": "2024-10-10T17:55:50.392641Z",
          "iopub.execute_input": "2024-10-10T17:55:50.392944Z",
          "iopub.status.idle": "2024-10-10T17:55:50.463524Z",
          "shell.execute_reply.started": "2024-10-10T17:55:50.392913Z",
          "shell.execute_reply": "2024-10-10T17:55:50.462621Z"
        },
        "trusted": true,
        "id": "E775_TCS0iKe"
      },
      "outputs": [],
      "execution_count": null
    },
    {
      "cell_type": "code",
      "source": [
        "crossval(convlstm2d, 50, X_train, y_train, X_test, y_test)"
      ],
      "metadata": {
        "trusted": true,
        "execution": {
          "iopub.status.busy": "2024-10-10T17:55:50.464709Z",
          "iopub.execute_input": "2024-10-10T17:55:50.465016Z",
          "iopub.status.idle": "2024-10-10T17:59:28.425929Z",
          "shell.execute_reply.started": "2024-10-10T17:55:50.464984Z",
          "shell.execute_reply": "2024-10-10T17:59:28.425054Z"
        },
        "id": "owaoDqcL0iKf"
      },
      "outputs": [],
      "execution_count": null
    },
    {
      "cell_type": "code",
      "source": [
        "crossval_loso(convlstm2d, 50, X_loso, y_loso)"
      ],
      "metadata": {
        "execution": {
          "iopub.status.busy": "2024-10-10T17:59:28.427697Z",
          "iopub.execute_input": "2024-10-10T17:59:28.427992Z",
          "iopub.status.idle": "2024-10-10T18:19:13.243859Z",
          "shell.execute_reply.started": "2024-10-10T17:59:28.42796Z",
          "shell.execute_reply": "2024-10-10T18:19:13.242871Z"
        },
        "trusted": true,
        "id": "63rZneRE0iKf"
      },
      "outputs": [],
      "execution_count": null
    },
    {
      "cell_type": "code",
      "source": [
        "# crossval_loso(threedConv, 100, X_loso, y_loso)"
      ],
      "metadata": {
        "trusted": true,
        "execution": {
          "iopub.status.busy": "2024-10-10T18:19:13.245193Z",
          "iopub.execute_input": "2024-10-10T18:19:13.245481Z",
          "iopub.status.idle": "2024-10-10T18:19:13.249732Z",
          "shell.execute_reply.started": "2024-10-10T18:19:13.245449Z",
          "shell.execute_reply": "2024-10-10T18:19:13.248812Z"
        },
        "id": "C7il2ISt0iKf"
      },
      "outputs": [],
      "execution_count": null
    },
    {
      "cell_type": "code",
      "source": [],
      "metadata": {
        "trusted": true,
        "id": "yNzKPQDC0iKg"
      },
      "outputs": [],
      "execution_count": null
    }
  ]
}